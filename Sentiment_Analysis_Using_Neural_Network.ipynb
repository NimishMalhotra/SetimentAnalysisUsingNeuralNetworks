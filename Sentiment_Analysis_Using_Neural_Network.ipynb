{
  "nbformat": 4,
  "nbformat_minor": 0,
  "metadata": {
    "colab": {
      "name": "Sentiment Analysis Using Neural Network.ipynb",
      "provenance": [],
      "collapsed_sections": [],
      "authorship_tag": "ABX9TyNnz9MpePyfHhc4i/2LejG6",
      "include_colab_link": true
    },
    "kernelspec": {
      "name": "python3",
      "display_name": "Python 3"
    },
    "accelerator": "TPU"
  },
  "cells": [
    {
      "cell_type": "markdown",
      "metadata": {
        "id": "view-in-github",
        "colab_type": "text"
      },
      "source": [
        "<a href=\"https://colab.research.google.com/github/NimishMalhotra/SetimentAnalysisUsingNeuralNetworks/blob/master/Sentiment_Analysis_Using_Neural_Network.ipynb\" target=\"_parent\"><img src=\"https://colab.research.google.com/assets/colab-badge.svg\" alt=\"Open In Colab\"/></a>"
      ]
    },
    {
      "cell_type": "markdown",
      "metadata": {
        "id": "T7Do4zpO1nV4",
        "colab_type": "text"
      },
      "source": [
        "**Classifying Movie Reviews**\n",
        "\n",
        "- Binary Classification on IMDB Dataset\n",
        "- Working with Text and MultiLayer Perceptron\n",
        "- Input - 50,000 Reviews\n",
        "- Output - Positive and Negative\n"
      ]
    },
    {
      "cell_type": "code",
      "metadata": {
        "id": "hnyjz0Dl2pHS",
        "colab_type": "code",
        "colab": {}
      },
      "source": [
        "from keras.datasets import imdb"
      ],
      "execution_count": null,
      "outputs": []
    },
    {
      "cell_type": "markdown",
      "metadata": {
        "id": "RDPUCzZg3zgr",
        "colab_type": "text"
      },
      "source": [
        "# Data Preparation"
      ]
    },
    {
      "cell_type": "code",
      "metadata": {
        "id": "H8Sme1IV33Uq",
        "colab_type": "code",
        "colab": {
          "base_uri": "https://localhost:8080/",
          "height": 51
        },
        "outputId": "81eda653-7dd6-48e5-88cb-5ca9e8b5c444"
      },
      "source": [
        "((X_train,Y_train),(X_test,Y_test)) = imdb.load_data(num_words=10000) # How many unique words you want, the most frequent 10,000 words will be kept in my dataset"
      ],
      "execution_count": null,
      "outputs": [
        {
          "output_type": "stream",
          "text": [
            "Downloading data from https://s3.amazonaws.com/text-datasets/imdb.npz\n",
            "17465344/17464789 [==============================] - 0s 0us/step\n"
          ],
          "name": "stdout"
        }
      ]
    },
    {
      "cell_type": "code",
      "metadata": {
        "id": "FEgCAcQ34m25",
        "colab_type": "code",
        "colab": {
          "base_uri": "https://localhost:8080/",
          "height": 34
        },
        "outputId": "64454c8d-298e-4ee3-de99-201c52dc6e3d"
      },
      "source": [
        "len(X_train) # No. of reviews"
      ],
      "execution_count": null,
      "outputs": [
        {
          "output_type": "execute_result",
          "data": {
            "text/plain": [
              "25000"
            ]
          },
          "metadata": {
            "tags": []
          },
          "execution_count": 3
        }
      ]
    },
    {
      "cell_type": "code",
      "metadata": {
        "id": "KwxA9uo_432X",
        "colab_type": "code",
        "colab": {
          "base_uri": "https://localhost:8080/",
          "height": 34
        },
        "outputId": "555e2f52-f578-482d-b135-4c3caa37b002"
      },
      "source": [
        "len(X_test)"
      ],
      "execution_count": null,
      "outputs": [
        {
          "output_type": "execute_result",
          "data": {
            "text/plain": [
              "25000"
            ]
          },
          "metadata": {
            "tags": []
          },
          "execution_count": 4
        }
      ]
    },
    {
      "cell_type": "code",
      "metadata": {
        "id": "btM5OJ7S5Ar0",
        "colab_type": "code",
        "colab": {
          "base_uri": "https://localhost:8080/",
          "height": 54
        },
        "outputId": "215d13af-796b-4d09-aa8c-6a8d44024dce"
      },
      "source": [
        "# Print the 0th review\n",
        "print(X_train[0])"
      ],
      "execution_count": null,
      "outputs": [
        {
          "output_type": "stream",
          "text": [
            "[1, 14, 22, 16, 43, 530, 973, 1622, 1385, 65, 458, 4468, 66, 3941, 4, 173, 36, 256, 5, 25, 100, 43, 838, 112, 50, 670, 2, 9, 35, 480, 284, 5, 150, 4, 172, 112, 167, 2, 336, 385, 39, 4, 172, 4536, 1111, 17, 546, 38, 13, 447, 4, 192, 50, 16, 6, 147, 2025, 19, 14, 22, 4, 1920, 4613, 469, 4, 22, 71, 87, 12, 16, 43, 530, 38, 76, 15, 13, 1247, 4, 22, 17, 515, 17, 12, 16, 626, 18, 2, 5, 62, 386, 12, 8, 316, 8, 106, 5, 4, 2223, 5244, 16, 480, 66, 3785, 33, 4, 130, 12, 16, 38, 619, 5, 25, 124, 51, 36, 135, 48, 25, 1415, 33, 6, 22, 12, 215, 28, 77, 52, 5, 14, 407, 16, 82, 2, 8, 4, 107, 117, 5952, 15, 256, 4, 2, 7, 3766, 5, 723, 36, 71, 43, 530, 476, 26, 400, 317, 46, 7, 4, 2, 1029, 13, 104, 88, 4, 381, 15, 297, 98, 32, 2071, 56, 26, 141, 6, 194, 7486, 18, 4, 226, 22, 21, 134, 476, 26, 480, 5, 144, 30, 5535, 18, 51, 36, 28, 224, 92, 25, 104, 4, 226, 65, 16, 38, 1334, 88, 12, 16, 283, 5, 16, 4472, 113, 103, 32, 15, 16, 5345, 19, 178, 32]\n"
          ],
          "name": "stdout"
        }
      ]
    },
    {
      "cell_type": "code",
      "metadata": {
        "id": "G4E8u5iU5IjN",
        "colab_type": "code",
        "colab": {
          "base_uri": "https://localhost:8080/",
          "height": 51
        },
        "outputId": "c7f8b6e7-66e6-4dfb-8b35-a1f3fc499067"
      },
      "source": [
        "# Keras convert the text into numbers according to the vocab\n",
        "\n",
        "word_idx = imdb.get_word_index()"
      ],
      "execution_count": null,
      "outputs": [
        {
          "output_type": "stream",
          "text": [
            "Downloading data from https://s3.amazonaws.com/text-datasets/imdb_word_index.json\n",
            "1646592/1641221 [==============================] - 0s 0us/step\n"
          ],
          "name": "stdout"
        }
      ]
    },
    {
      "cell_type": "code",
      "metadata": {
        "id": "VZhHxJjU6NlH",
        "colab_type": "code",
        "colab": {}
      },
      "source": [
        "# To see the key value pair in the vocab dictonary\n",
        "#print(word_idx.items())"
      ],
      "execution_count": 82,
      "outputs": []
    },
    {
      "cell_type": "code",
      "metadata": {
        "id": "HLQAd-xS6Y_W",
        "colab_type": "code",
        "colab": {}
      },
      "source": [
        "# To see the actual review- Create a reeverse dictonary which maps indexes to words\n",
        "idx_words = dict([value,key] for (key,value) in word_idx.items())"
      ],
      "execution_count": null,
      "outputs": []
    },
    {
      "cell_type": "code",
      "metadata": {
        "id": "kxescMf47GA5",
        "colab_type": "code",
        "colab": {}
      },
      "source": [
        "#print(idx_words)"
      ],
      "execution_count": 83,
      "outputs": []
    },
    {
      "cell_type": "code",
      "metadata": {
        "id": "cGdMsZsm7Iqn",
        "colab_type": "code",
        "colab": {}
      },
      "source": [
        "#print(idx_words.items())"
      ],
      "execution_count": 84,
      "outputs": []
    },
    {
      "cell_type": "code",
      "metadata": {
        "id": "ouf_BGNX7Y4B",
        "colab_type": "code",
        "colab": {}
      },
      "source": [
        "actual_review = ' '.join([idx_words.get(idx-3,'#') for idx in X_train[0]]) # the # was if we dont get this idx-3 in dictonary"
      ],
      "execution_count": null,
      "outputs": []
    },
    {
      "cell_type": "code",
      "metadata": {
        "id": "BAL9sMEO9CWW",
        "colab_type": "code",
        "colab": {
          "base_uri": "https://localhost:8080/",
          "height": 54
        },
        "outputId": "ba7aa440-4ae8-4b7c-fb3f-dcbb6787bdca"
      },
      "source": [
        "print(actual_review)"
      ],
      "execution_count": null,
      "outputs": [
        {
          "output_type": "stream",
          "text": [
            "# this film was just brilliant casting location scenery story direction everyone's really suited the part they played and you could just imagine being there robert # is an amazing actor and now the same being director # father came from the same scottish island as myself so i loved the fact there was a real connection with this film the witty remarks throughout the film were great it was just brilliant so much that i bought the film as soon as it was released for # and would recommend it to everyone to watch and the fly fishing was amazing really cried at the end it was so sad and you know what they say if you cry at a film it must have been good and this definitely was also # to the two little boy's that played the # of norman and paul they were just brilliant children are often left out of the # list i think because the stars that play them all grown up are such a big profile for the whole film but these children are amazing and should be praised for what they have done don't you think the whole story was so lovely because it was true and was someone's life after all that was shared with us all\n"
          ],
          "name": "stdout"
        }
      ]
    },
    {
      "cell_type": "code",
      "metadata": {
        "id": "TL8sOEkz9GAR",
        "colab_type": "code",
        "colab": {}
      },
      "source": [
        "# Some of type of preprocessing like stopword removal has already been done to the review."
      ],
      "execution_count": null,
      "outputs": []
    },
    {
      "cell_type": "markdown",
      "metadata": {
        "id": "M2xEQv2z-Ver",
        "colab_type": "text"
      },
      "source": [
        "## Vectorize the data\n",
        "\n",
        "- Vocab Size is 10,000\n",
        "- We will make sure that every review is represented by a vector of size 10,000 and it would be collection of 0's and 1's [00001001010..........10101001111000]\n",
        "- The ith index will be set to 1 if there is word in sentence for that index.\n",
        "- Otherwise it will be set to 0.\n",
        "- Transform the data into fixed length vectors.\n",
        "- For every example/review the neural network will accept fixed no. of features/input units.\n",
        "- But the problem with the current vector that we get in training set is that the length of vector is proportional to length of review. So a big review will have a big input vector and a small review has a small input vector.\n",
        "- So the no. of features are not constant over all the examples.\n",
        "- Every sentence/review should have same no. of features so that our algo could process it.\n",
        "- Each example/review now has 10K features.\n",
        "- Inorder to convert the review into a vector of length 10K either we can use count_vectorizer method (built-in) or we can create one own our own."
      ]
    },
    {
      "cell_type": "code",
      "metadata": {
        "id": "XT1ffbnMA_88",
        "colab_type": "code",
        "colab": {
          "base_uri": "https://localhost:8080/",
          "height": 34
        },
        "outputId": "1374a333-5240-4995-ffd4-35ff175dcfb3"
      },
      "source": [
        "print(X_train.shape)"
      ],
      "execution_count": null,
      "outputs": [
        {
          "output_type": "stream",
          "text": [
            "(25000,)\n"
          ],
          "name": "stdout"
        }
      ]
    },
    {
      "cell_type": "code",
      "metadata": {
        "id": "OWrymzbeBf6q",
        "colab_type": "code",
        "colab": {
          "base_uri": "https://localhost:8080/",
          "height": 34
        },
        "outputId": "d483168d-3ce0-4227-99d2-5418f5e956c3"
      },
      "source": [
        "print(Y_train.shape)"
      ],
      "execution_count": null,
      "outputs": [
        {
          "output_type": "stream",
          "text": [
            "(25000,)\n"
          ],
          "name": "stdout"
        }
      ]
    },
    {
      "cell_type": "code",
      "metadata": {
        "id": "7cm63d6QBjgr",
        "colab_type": "code",
        "colab": {
          "base_uri": "https://localhost:8080/",
          "height": 34
        },
        "outputId": "b891b049-9a11-46fc-e06c-ec06800c7959"
      },
      "source": [
        "type(X_train)"
      ],
      "execution_count": null,
      "outputs": [
        {
          "output_type": "execute_result",
          "data": {
            "text/plain": [
              "numpy.ndarray"
            ]
          },
          "metadata": {
            "tags": []
          },
          "execution_count": 19
        }
      ]
    },
    {
      "cell_type": "code",
      "metadata": {
        "id": "NxRG75qJDNsd",
        "colab_type": "code",
        "colab": {}
      },
      "source": [
        "import numpy as np"
      ],
      "execution_count": null,
      "outputs": []
    },
    {
      "cell_type": "code",
      "metadata": {
        "id": "V6PEr08pBqnM",
        "colab_type": "code",
        "colab": {}
      },
      "source": [
        "def vectorize_sentences(sentences,dim=10000):\n",
        "  \"\"\"Accepts the entire dataset of reviews and convert each review into a vector of 0's and 1's\"\"\"\n",
        "  train_data = np.zeros((len(sentences),dim))\n",
        "  for i,idx in enumerate(sentences):\n",
        "    # i denotes the ith review and idx denotes list of indices for the ith review because ith review is list of indexes \n",
        "    train_data[i,idx] = 1\n",
        "  \n",
        "  return train_data"
      ],
      "execution_count": null,
      "outputs": []
    },
    {
      "cell_type": "code",
      "metadata": {
        "id": "g9vcmZA9DEyz",
        "colab_type": "code",
        "colab": {}
      },
      "source": [
        "train_data = vectorize_sentences(X_train)"
      ],
      "execution_count": null,
      "outputs": []
    },
    {
      "cell_type": "code",
      "metadata": {
        "id": "sLqJWX1oDI6o",
        "colab_type": "code",
        "colab": {
          "base_uri": "https://localhost:8080/",
          "height": 34
        },
        "outputId": "b2f94afb-55d2-42dd-c00f-b695e3c80258"
      },
      "source": [
        "train_data.shape"
      ],
      "execution_count": null,
      "outputs": [
        {
          "output_type": "execute_result",
          "data": {
            "text/plain": [
              "(25000, 10000)"
            ]
          },
          "metadata": {
            "tags": []
          },
          "execution_count": 27
        }
      ]
    },
    {
      "cell_type": "code",
      "metadata": {
        "id": "Id3973JdD3wl",
        "colab_type": "code",
        "colab": {
          "base_uri": "https://localhost:8080/",
          "height": 34
        },
        "outputId": "2540dd26-eedb-4561-f2c5-b167d227e1f3"
      },
      "source": [
        "X_train.shape"
      ],
      "execution_count": null,
      "outputs": [
        {
          "output_type": "execute_result",
          "data": {
            "text/plain": [
              "(25000,)"
            ]
          },
          "metadata": {
            "tags": []
          },
          "execution_count": 28
        }
      ]
    },
    {
      "cell_type": "code",
      "metadata": {
        "id": "kFzQ6mC-EDR6",
        "colab_type": "code",
        "colab": {}
      },
      "source": [
        "X_train = train_data"
      ],
      "execution_count": null,
      "outputs": []
    },
    {
      "cell_type": "code",
      "metadata": {
        "id": "VU6Rxr6oEG9Q",
        "colab_type": "code",
        "colab": {
          "base_uri": "https://localhost:8080/",
          "height": 34
        },
        "outputId": "f918da3e-4ce2-4161-f06e-4e771250c680"
      },
      "source": [
        "X_train.shape"
      ],
      "execution_count": null,
      "outputs": [
        {
          "output_type": "execute_result",
          "data": {
            "text/plain": [
              "(25000, 10000)"
            ]
          },
          "metadata": {
            "tags": []
          },
          "execution_count": 30
        }
      ]
    },
    {
      "cell_type": "code",
      "metadata": {
        "id": "GKchnrVNEIQH",
        "colab_type": "code",
        "colab": {}
      },
      "source": [
        "X_test = vectorize_sentences(X_test)"
      ],
      "execution_count": null,
      "outputs": []
    },
    {
      "cell_type": "code",
      "metadata": {
        "id": "bwnoTZZYEMcU",
        "colab_type": "code",
        "colab": {
          "base_uri": "https://localhost:8080/",
          "height": 34
        },
        "outputId": "40105279-6f89-488d-bc8d-1bf978e92a6f"
      },
      "source": [
        "X_test.shape"
      ],
      "execution_count": null,
      "outputs": [
        {
          "output_type": "execute_result",
          "data": {
            "text/plain": [
              "(25000, 10000)"
            ]
          },
          "metadata": {
            "tags": []
          },
          "execution_count": 32
        }
      ]
    },
    {
      "cell_type": "code",
      "metadata": {
        "id": "6Gy-exY2EOHA",
        "colab_type": "code",
        "colab": {}
      },
      "source": [
        "# For both training and testing set we have 25,000 sentences each having 10,000 ffeatures."
      ],
      "execution_count": null,
      "outputs": []
    },
    {
      "cell_type": "code",
      "metadata": {
        "id": "5PB5YK48Eelx",
        "colab_type": "code",
        "colab": {
          "base_uri": "https://localhost:8080/",
          "height": 34
        },
        "outputId": "7229d0b3-9546-4e4f-f8d8-177114a9de8b"
      },
      "source": [
        "print(X_train[0])"
      ],
      "execution_count": null,
      "outputs": [
        {
          "output_type": "stream",
          "text": [
            "[0. 1. 1. ... 0. 0. 0.]\n"
          ],
          "name": "stdout"
        }
      ]
    },
    {
      "cell_type": "code",
      "metadata": {
        "id": "iu3k8tjVEi59",
        "colab_type": "code",
        "colab": {
          "base_uri": "https://localhost:8080/",
          "height": 34
        },
        "outputId": "d12d821e-f7bf-4be8-f4ef-0fc04c524893"
      },
      "source": [
        "print(Y_train)"
      ],
      "execution_count": null,
      "outputs": [
        {
          "output_type": "stream",
          "text": [
            "[1 0 0 ... 0 1 0]\n"
          ],
          "name": "stdout"
        }
      ]
    },
    {
      "cell_type": "code",
      "metadata": {
        "id": "esdblsrAEqLA",
        "colab_type": "code",
        "colab": {}
      },
      "source": [
        "Y_train = np.asarray(Y_train).astype('float32')\n",
        "Y_test = np.asarray(Y_test).astype('float32')"
      ],
      "execution_count": null,
      "outputs": []
    },
    {
      "cell_type": "markdown",
      "metadata": {
        "id": "gnhMkblOFQy5",
        "colab_type": "text"
      },
      "source": [
        "# Build Our Network"
      ]
    },
    {
      "cell_type": "markdown",
      "metadata": {
        "id": "K4J1ABLPFV4q",
        "colab_type": "text"
      },
      "source": [
        "# Define Model Architecture\n",
        "\n",
        "- Use Fully Connected/ Dense Layers with Relu Activation\n",
        "- 2 Hidden Layers with 16 units each\n",
        "- 1 output layer with 1 unit(sigmoid activation)\n",
        "- 1 for positive review and 0 for a negative review\n",
        "- 10,000 units in input layer\n",
        "- Hidden Layers are called dense layers.\n",
        "- Relu activation will be used in the hidden layers."
      ]
    },
    {
      "cell_type": "code",
      "metadata": {
        "id": "Ar-88LLuFUWM",
        "colab_type": "code",
        "colab": {}
      },
      "source": [
        "from keras import models\n",
        "from keras.layers import Dense"
      ],
      "execution_count": null,
      "outputs": []
    },
    {
      "cell_type": "markdown",
      "metadata": {
        "id": "I30-9OIoIlqs",
        "colab_type": "text"
      },
      "source": [
        "# Define the Model"
      ]
    },
    {
      "cell_type": "code",
      "metadata": {
        "id": "7Vrm6xniHGmP",
        "colab_type": "code",
        "colab": {}
      },
      "source": [
        "# models is a sequential class\n",
        "model = models.Sequential()\n",
        "model.add(Dense(16,activation='relu',input_shape=(10000,))) # specify input_shape for the first hidden layer, 10,000 input units for 1 example, no. of examples will be automatically be handled by the keras\n",
        "model.add(Dense(16,activation='relu'))\n",
        "model.add(Dense(1,activation='sigmoid')) #output layer\n"
      ],
      "execution_count": null,
      "outputs": []
    },
    {
      "cell_type": "markdown",
      "metadata": {
        "id": "VzLNfj5xIpcD",
        "colab_type": "text"
      },
      "source": [
        "# Compile the Model"
      ]
    },
    {
      "cell_type": "code",
      "metadata": {
        "id": "OkDwwfAvIsdu",
        "colab_type": "code",
        "colab": {}
      },
      "source": [
        "# We have to update the weights and biases during backpropagation\n",
        "# Optimizers are used to adjust the weights inorder to minimize the loss.\n",
        "# Optimizers - Gradient Descent, Stochastic Gradient Descent etc."
      ],
      "execution_count": null,
      "outputs": []
    },
    {
      "cell_type": "code",
      "metadata": {
        "id": "fr0zWyvnJqeS",
        "colab_type": "code",
        "colab": {}
      },
      "source": [
        "model.compile(optimizer='rmsprop',loss='binary_crossentropy',metrics=['accuracy'])"
      ],
      "execution_count": null,
      "outputs": []
    },
    {
      "cell_type": "code",
      "metadata": {
        "id": "fUYqjz8-J4n7",
        "colab_type": "code",
        "colab": {
          "base_uri": "https://localhost:8080/",
          "height": 255
        },
        "outputId": "94640b26-73be-445c-d5cc-421ef8152eba"
      },
      "source": [
        "model.summary()"
      ],
      "execution_count": null,
      "outputs": [
        {
          "output_type": "stream",
          "text": [
            "Model: \"sequential_1\"\n",
            "_________________________________________________________________\n",
            "Layer (type)                 Output Shape              Param #   \n",
            "=================================================================\n",
            "dense_1 (Dense)              (None, 16)                160016    \n",
            "_________________________________________________________________\n",
            "dense_2 (Dense)              (None, 16)                272       \n",
            "_________________________________________________________________\n",
            "dense_3 (Dense)              (None, 1)                 17        \n",
            "=================================================================\n",
            "Total params: 160,305\n",
            "Trainable params: 160,305\n",
            "Non-trainable params: 0\n",
            "_________________________________________________________________\n"
          ],
          "name": "stdout"
        }
      ]
    },
    {
      "cell_type": "markdown",
      "metadata": {
        "id": "E2amslE4KkHe",
        "colab_type": "text"
      },
      "source": [
        "# Training and Validation"
      ]
    },
    {
      "cell_type": "code",
      "metadata": {
        "id": "qGPjEQr-KAWZ",
        "colab_type": "code",
        "colab": {}
      },
      "source": [
        "# Our model has more no. of parameters(weights and biases) than the no. of examples in the training set.\n",
        "# Model may overfit.\n",
        "# Inorder to avoid overfitting we need to have a validation set.\n",
        "# Validation is a subset of training set"
      ],
      "execution_count": null,
      "outputs": []
    },
    {
      "cell_type": "code",
      "metadata": {
        "id": "WIG4GYbRXd8g",
        "colab_type": "code",
        "colab": {}
      },
      "source": [
        "X_val = X_train[:5000]\n",
        "X_train_new = X_train[5000:]\n",
        "\n",
        "Y_val = Y_train[:5000]\n",
        "Y_train_new = Y_train[5000:]"
      ],
      "execution_count": null,
      "outputs": []
    },
    {
      "cell_type": "code",
      "metadata": {
        "id": "ts6LsMdcYQaZ",
        "colab_type": "code",
        "colab": {}
      },
      "source": [
        "# fit returns a history object\n",
        "# it uses mini batch gradient descent where you make weight updates after each batch has passed through network\n",
        "# batch size is generally kept as a multiple of 2\n",
        "# if you have a very large data , smaller batch is beneficial so that your data fits easily into memory\n",
        "# if you get out of memory error due to a large batch size, then use smaller batch size"
      ],
      "execution_count": null,
      "outputs": []
    },
    {
      "cell_type": "code",
      "metadata": {
        "id": "hL1HA7wxaAFd",
        "colab_type": "code",
        "colab": {
          "base_uri": "https://localhost:8080/",
          "height": 714
        },
        "outputId": "2263b5c6-cc0e-424c-d568-256424d7fd86"
      },
      "source": [
        "hist = model.fit(X_train_new,Y_train_new,epochs=20,batch_size=512,validation_data=(X_val,Y_val))"
      ],
      "execution_count": null,
      "outputs": [
        {
          "output_type": "stream",
          "text": [
            "Train on 20000 samples, validate on 5000 samples\n",
            "Epoch 1/20\n",
            "20000/20000 [==============================] - 5s 265us/step - loss: 0.4904 - accuracy: 0.8091 - val_loss: 0.3742 - val_accuracy: 0.8634\n",
            "Epoch 2/20\n",
            "20000/20000 [==============================] - 1s 51us/step - loss: 0.2819 - accuracy: 0.9058 - val_loss: 0.2876 - val_accuracy: 0.8894\n",
            "Epoch 3/20\n",
            "20000/20000 [==============================] - 1s 51us/step - loss: 0.2095 - accuracy: 0.9281 - val_loss: 0.2719 - val_accuracy: 0.8920\n",
            "Epoch 4/20\n",
            "20000/20000 [==============================] - 1s 51us/step - loss: 0.1708 - accuracy: 0.9407 - val_loss: 0.2708 - val_accuracy: 0.8956\n",
            "Epoch 5/20\n",
            "20000/20000 [==============================] - 1s 50us/step - loss: 0.1419 - accuracy: 0.9530 - val_loss: 0.2987 - val_accuracy: 0.8850\n",
            "Epoch 6/20\n",
            "20000/20000 [==============================] - 1s 50us/step - loss: 0.1197 - accuracy: 0.9606 - val_loss: 0.3507 - val_accuracy: 0.8702\n",
            "Epoch 7/20\n",
            "20000/20000 [==============================] - 1s 51us/step - loss: 0.1024 - accuracy: 0.9671 - val_loss: 0.3353 - val_accuracy: 0.8804\n",
            "Epoch 8/20\n",
            "20000/20000 [==============================] - 1s 50us/step - loss: 0.0843 - accuracy: 0.9742 - val_loss: 0.3347 - val_accuracy: 0.8842\n",
            "Epoch 9/20\n",
            "20000/20000 [==============================] - 1s 52us/step - loss: 0.0738 - accuracy: 0.9777 - val_loss: 0.3679 - val_accuracy: 0.8798\n",
            "Epoch 10/20\n",
            "20000/20000 [==============================] - 1s 51us/step - loss: 0.0600 - accuracy: 0.9832 - val_loss: 0.3838 - val_accuracy: 0.8794\n",
            "Epoch 11/20\n",
            "20000/20000 [==============================] - 1s 51us/step - loss: 0.0510 - accuracy: 0.9854 - val_loss: 0.4355 - val_accuracy: 0.8720\n",
            "Epoch 12/20\n",
            "20000/20000 [==============================] - 1s 51us/step - loss: 0.0413 - accuracy: 0.9890 - val_loss: 0.4412 - val_accuracy: 0.8752\n",
            "Epoch 13/20\n",
            "20000/20000 [==============================] - 1s 50us/step - loss: 0.0335 - accuracy: 0.9918 - val_loss: 0.4732 - val_accuracy: 0.8742\n",
            "Epoch 14/20\n",
            "20000/20000 [==============================] - 1s 50us/step - loss: 0.0268 - accuracy: 0.9944 - val_loss: 0.5274 - val_accuracy: 0.8716\n",
            "Epoch 15/20\n",
            "20000/20000 [==============================] - 1s 51us/step - loss: 0.0199 - accuracy: 0.9962 - val_loss: 0.6393 - val_accuracy: 0.8568\n",
            "Epoch 16/20\n",
            "20000/20000 [==============================] - 1s 50us/step - loss: 0.0164 - accuracy: 0.9972 - val_loss: 0.5803 - val_accuracy: 0.8688\n",
            "Epoch 17/20\n",
            "20000/20000 [==============================] - 1s 51us/step - loss: 0.0122 - accuracy: 0.9984 - val_loss: 0.6306 - val_accuracy: 0.8684\n",
            "Epoch 18/20\n",
            "20000/20000 [==============================] - 1s 51us/step - loss: 0.0124 - accuracy: 0.9973 - val_loss: 0.6595 - val_accuracy: 0.8676\n",
            "Epoch 19/20\n",
            "20000/20000 [==============================] - 1s 50us/step - loss: 0.0055 - accuracy: 0.9995 - val_loss: 0.7088 - val_accuracy: 0.8652\n",
            "Epoch 20/20\n",
            "20000/20000 [==============================] - 1s 50us/step - loss: 0.0081 - accuracy: 0.9980 - val_loss: 0.7327 - val_accuracy: 0.8684\n"
          ],
          "name": "stdout"
        }
      ]
    },
    {
      "cell_type": "markdown",
      "metadata": {
        "id": "ncrxXoWiaoD0",
        "colab_type": "text"
      },
      "source": [
        "# Visualise Results"
      ]
    },
    {
      "cell_type": "code",
      "metadata": {
        "id": "lh_yDD1FaSop",
        "colab_type": "code",
        "colab": {}
      },
      "source": [
        "import matplotlib.pyplot as plt"
      ],
      "execution_count": null,
      "outputs": []
    },
    {
      "cell_type": "code",
      "metadata": {
        "id": "UFnprUQoawdg",
        "colab_type": "code",
        "colab": {}
      },
      "source": [
        "hist?"
      ],
      "execution_count": null,
      "outputs": []
    },
    {
      "cell_type": "code",
      "metadata": {
        "id": "QhET_CJia7w6",
        "colab_type": "code",
        "colab": {}
      },
      "source": [
        "# this hist object contains a dictonary\n",
        "h = hist.history"
      ],
      "execution_count": null,
      "outputs": []
    },
    {
      "cell_type": "code",
      "metadata": {
        "id": "BrZErtPjbJAr",
        "colab_type": "code",
        "colab": {
          "base_uri": "https://localhost:8080/",
          "height": 34
        },
        "outputId": "6643edd0-e99f-4810-c00e-27c56087317c"
      },
      "source": [
        "h.keys()"
      ],
      "execution_count": null,
      "outputs": [
        {
          "output_type": "execute_result",
          "data": {
            "text/plain": [
              "dict_keys(['val_loss', 'val_accuracy', 'loss', 'accuracy'])"
            ]
          },
          "metadata": {
            "tags": []
          },
          "execution_count": 51
        }
      ]
    },
    {
      "cell_type": "code",
      "metadata": {
        "id": "yYLYBf1dbYtL",
        "colab_type": "code",
        "colab": {
          "base_uri": "https://localhost:8080/",
          "height": 497
        },
        "outputId": "f33511e7-a701-4c61-e22b-2cc39d6bbd60"
      },
      "source": [
        "plt.figure(figsize=(10,8))\n",
        "plt.style.use(\"seaborn\")\n",
        "plt.plot(h['loss'],label='Training Loss')\n",
        "plt.plot(h['val_loss'],label='Validation Loss')\n",
        "plt.xlabel('Epoch')\n",
        "plt.ylabel('Loss')\n",
        "plt.legend()\n",
        "plt.show()"
      ],
      "execution_count": null,
      "outputs": [
        {
          "output_type": "display_data",
          "data": {
            "image/png": "[encoded data removed]",
            "text/plain": [
              "<Figure size 720x576 with 1 Axes>"
            ]
          },
          "metadata": {
            "tags": []
          }
        }
      ]
    },
    {
      "cell_type": "code",
      "metadata": {
        "id": "tcOARZyTcGq9",
        "colab_type": "code",
        "colab": {}
      },
      "source": [
        "# Validation Loss is initially decreasing but then it starts increasing, this inc is due to overfitting"
      ],
      "execution_count": null,
      "outputs": []
    },
    {
      "cell_type": "code",
      "metadata": {
        "id": "pfeGtRYocqnQ",
        "colab_type": "code",
        "colab": {
          "base_uri": "https://localhost:8080/",
          "height": 497
        },
        "outputId": "345ed88c-8e5e-4792-e74a-fa2e7a2ca236"
      },
      "source": [
        "plt.figure(figsize=(10,8))\n",
        "plt.style.use(\"seaborn\")\n",
        "plt.plot(h['accuracy'],label='Training Accuracy')\n",
        "plt.plot(h['val_accuracy'],label='Validation Accuracy')\n",
        "plt.xlabel('Epoch')\n",
        "plt.ylabel('Accuracy')\n",
        "plt.legend()\n",
        "plt.show()"
      ],
      "execution_count": null,
      "outputs": [
        {
          "output_type": "display_data",
          "data": {
            "image/png": "[encoded data removed]",
            "text/plain": [
              "<Figure size 720x576 with 1 Axes>"
            ]
          },
          "metadata": {
            "tags": []
          }
        }
      ]
    },
    {
      "cell_type": "code",
      "metadata": {
        "id": "p87Q5jjBdIn0",
        "colab_type": "code",
        "colab": {}
      },
      "source": [
        "# Validation Accuracy is max at 3 epochs around 88% but training accuracy approaches 100% due to overfitting. So we need to stop our algo after 3 epochs."
      ],
      "execution_count": null,
      "outputs": []
    },
    {
      "cell_type": "code",
      "metadata": {
        "id": "rlyua95EdyE3",
        "colab_type": "code",
        "colab": {}
      },
      "source": [
        "# We will stop after 3 eopchs and this point is called early stopping."
      ],
      "execution_count": null,
      "outputs": []
    },
    {
      "cell_type": "code",
      "metadata": {
        "id": "co74h0hfd5tC",
        "colab_type": "code",
        "colab": {
          "base_uri": "https://localhost:8080/",
          "height": 170
        },
        "outputId": "bdfa546d-cf5e-484f-b90a-dbc54a807936"
      },
      "source": [
        "hist = model.fit(X_train_new,Y_train_new,epochs=4,batch_size=512,validation_data=(X_val,Y_val))"
      ],
      "execution_count": null,
      "outputs": [
        {
          "output_type": "stream",
          "text": [
            "Train on 20000 samples, validate on 5000 samples\n",
            "Epoch 1/4\n",
            "20000/20000 [==============================] - 2s 77us/step - loss: 0.0033 - accuracy: 0.9998 - val_loss: 0.8391 - val_accuracy: 0.8558\n",
            "Epoch 2/4\n",
            "20000/20000 [==============================] - 1s 51us/step - loss: 0.0024 - accuracy: 0.9999 - val_loss: 0.7973 - val_accuracy: 0.8690\n",
            "Epoch 3/4\n",
            "20000/20000 [==============================] - 1s 51us/step - loss: 0.0076 - accuracy: 0.9982 - val_loss: 0.8334 - val_accuracy: 0.8670\n",
            "Epoch 4/4\n",
            "20000/20000 [==============================] - 1s 51us/step - loss: 0.0011 - accuracy: 1.0000 - val_loss: 0.8649 - val_accuracy: 0.8696\n"
          ],
          "name": "stdout"
        }
      ]
    },
    {
      "cell_type": "code",
      "metadata": {
        "id": "a0KrcNzyeSON",
        "colab_type": "code",
        "colab": {}
      },
      "source": [
        "h = hist.history"
      ],
      "execution_count": null,
      "outputs": []
    },
    {
      "cell_type": "code",
      "metadata": {
        "id": "SQfv4TCbedsm",
        "colab_type": "code",
        "colab": {
          "base_uri": "https://localhost:8080/",
          "height": 497
        },
        "outputId": "f194a75f-ea32-4eb8-dded-4603df458688"
      },
      "source": [
        "plt.figure(figsize=(10,8))\n",
        "plt.style.use(\"seaborn\")\n",
        "plt.plot(h['loss'],label='Training Loss')\n",
        "plt.plot(h['val_loss'],label='Validation Loss')\n",
        "plt.xlabel('Epoch')\n",
        "plt.ylabel('Loss')\n",
        "plt.legend()\n",
        "plt.show()"
      ],
      "execution_count": null,
      "outputs": [
        {
          "output_type": "display_data",
          "data": {
            "image/png": "[encoded data removed]",
            "text/plain": [
              "<Figure size 720x576 with 1 Axes>"
            ]
          },
          "metadata": {
            "tags": []
          }
        }
      ]
    },
    {
      "cell_type": "code",
      "metadata": {
        "id": "YsP0tJfwehDm",
        "colab_type": "code",
        "colab": {
          "base_uri": "https://localhost:8080/",
          "height": 497
        },
        "outputId": "342b23d1-9ba4-4004-bed1-bc86287fbd51"
      },
      "source": [
        "plt.figure(figsize=(10,8))\n",
        "plt.style.use(\"seaborn\")\n",
        "plt.plot(h['accuracy'],label='Training Accuracy')\n",
        "plt.plot(h['val_accuracy'],label='Validation Accuracy')\n",
        "plt.xlabel('Epoch')\n",
        "plt.ylabel('Accuracy')\n",
        "plt.legend()\n",
        "plt.show()"
      ],
      "execution_count": null,
      "outputs": [
        {
          "output_type": "display_data",
          "data": {
            "image/png": "[encoded data removed]",
            "text/plain": [
              "<Figure size 720x576 with 1 Axes>"
            ]
          },
          "metadata": {
            "tags": []
          }
        }
      ]
    },
    {
      "cell_type": "markdown",
      "metadata": {
        "id": "BgWvWJpFe9CA",
        "colab_type": "text"
      },
      "source": [
        "# Testing Model"
      ]
    },
    {
      "cell_type": "code",
      "metadata": {
        "id": "eMmWbeI8eksk",
        "colab_type": "code",
        "colab": {
          "base_uri": "https://localhost:8080/",
          "height": 34
        },
        "outputId": "2d85d791-1dd5-41c8-800e-2c0b2183a306"
      },
      "source": [
        "result = model.evaluate(X_test,Y_test)"
      ],
      "execution_count": null,
      "outputs": [
        {
          "output_type": "stream",
          "text": [
            "25000/25000 [==============================] - 1s 42us/step\n"
          ],
          "name": "stdout"
        }
      ]
    },
    {
      "cell_type": "code",
      "metadata": {
        "id": "tusYjjvbfB6Q",
        "colab_type": "code",
        "colab": {
          "base_uri": "https://localhost:8080/",
          "height": 34
        },
        "outputId": "acf55321-694d-4532-f3bd-9f5e51d1887e"
      },
      "source": [
        "print(result[1]*100) #accuracy on test set"
      ],
      "execution_count": null,
      "outputs": [
        {
          "output_type": "stream",
          "text": [
            "84.78000164031982\n"
          ],
          "name": "stdout"
        }
      ]
    },
    {
      "cell_type": "code",
      "metadata": {
        "id": "q1rGTmeefUBQ",
        "colab_type": "code",
        "colab": {
          "base_uri": "https://localhost:8080/",
          "height": 51
        },
        "outputId": "32a44f8d-3cd4-41d6-cfeb-3a4378a29bd5"
      },
      "source": [
        "model.evaluate(X_train_new,Y_train_new)[1]"
      ],
      "execution_count": null,
      "outputs": [
        {
          "output_type": "stream",
          "text": [
            "20000/20000 [==============================] - 1s 43us/step\n"
          ],
          "name": "stdout"
        },
        {
          "output_type": "execute_result",
          "data": {
            "text/plain": [
              "1.0"
            ]
          },
          "metadata": {
            "tags": []
          },
          "execution_count": 70
        }
      ]
    },
    {
      "cell_type": "code",
      "metadata": {
        "id": "hso_gE3Xfs3a",
        "colab_type": "code",
        "colab": {}
      },
      "source": [
        "# We need to run all cells again because we trained our model for 4 epochs on a previously trained model of 20 epochs.\n",
        "# So in totality we trained the model for 24 epochs. Inorder to get true results we need to run all cells from start to create a new model and test it."
      ],
      "execution_count": null,
      "outputs": []
    },
    {
      "cell_type": "code",
      "metadata": {
        "id": "_PP-P-UHgKEp",
        "colab_type": "code",
        "colab": {
          "base_uri": "https://localhost:8080/",
          "height": 170
        },
        "outputId": "bdaa5bd0-c1b0-482c-c275-4ba70d2a5054"
      },
      "source": [
        "# models is a sequential class\n",
        "model1 = models.Sequential()\n",
        "model1.add(Dense(16,activation='relu',input_shape=(10000,))) # specify input_shape for the first hidden layer, 10,000 input units for 1 example, no. of examples will be automatically be handled by the keras\n",
        "model1.add(Dense(16,activation='relu'))\n",
        "model1.add(Dense(1,activation='sigmoid')) #output layer\n",
        "model1.compile(optimizer='rmsprop',loss='binary_crossentropy',metrics=['accuracy'])\n",
        "hist1 = model1.fit(X_train_new,Y_train_new,epochs=4,batch_size=512,validation_data=(X_val,Y_val))\n",
        "h1 = hist1.history\n",
        "\n"
      ],
      "execution_count": null,
      "outputs": [
        {
          "output_type": "stream",
          "text": [
            "Train on 20000 samples, validate on 5000 samples\n",
            "Epoch 1/4\n",
            "20000/20000 [==============================] - 1s 60us/step - loss: 0.4896 - accuracy: 0.8033 - val_loss: 0.3451 - val_accuracy: 0.8800\n",
            "Epoch 2/4\n",
            "20000/20000 [==============================] - 1s 52us/step - loss: 0.2728 - accuracy: 0.9068 - val_loss: 0.2839 - val_accuracy: 0.8908\n",
            "Epoch 3/4\n",
            "20000/20000 [==============================] - 1s 52us/step - loss: 0.2035 - accuracy: 0.9305 - val_loss: 0.3140 - val_accuracy: 0.8766\n",
            "Epoch 4/4\n",
            "20000/20000 [==============================] - 1s 51us/step - loss: 0.1681 - accuracy: 0.9412 - val_loss: 0.2747 - val_accuracy: 0.8922\n"
          ],
          "name": "stdout"
        }
      ]
    },
    {
      "cell_type": "code",
      "metadata": {
        "id": "DlCiGaPWg0Bh",
        "colab_type": "code",
        "colab": {
          "base_uri": "https://localhost:8080/",
          "height": 497
        },
        "outputId": "7bf95cfc-3c02-4a6d-87bb-bbd9c166ac54"
      },
      "source": [
        "plt.figure(figsize=(10,8))\n",
        "plt.style.use(\"seaborn\")\n",
        "plt.plot(h1['loss'],label='Training Loss')\n",
        "plt.plot(h1['val_loss'],label='Validation Loss')\n",
        "plt.xlabel('Epoch')\n",
        "plt.ylabel('Loss')\n",
        "plt.legend()\n",
        "plt.show()"
      ],
      "execution_count": null,
      "outputs": [
        {
          "output_type": "display_data",
          "data": {
            "image/png": "[encoded data removed]",
            "text/plain": [
              "<Figure size 720x576 with 1 Axes>"
            ]
          },
          "metadata": {
            "tags": []
          }
        }
      ]
    },
    {
      "cell_type": "code",
      "metadata": {
        "id": "wvYVH8Y9g6dX",
        "colab_type": "code",
        "colab": {
          "base_uri": "https://localhost:8080/",
          "height": 497
        },
        "outputId": "a0af3691-f9d5-48eb-edd8-f278f76ee636"
      },
      "source": [
        "plt.figure(figsize=(10,8))\n",
        "plt.style.use(\"seaborn\")\n",
        "plt.plot(h1['accuracy'],label='Training Accuracy')\n",
        "plt.plot(h1['val_accuracy'],label='Validation Accuracy')\n",
        "plt.xlabel('Epoch')\n",
        "plt.ylabel('Accuracy')\n",
        "plt.legend()\n",
        "plt.show()"
      ],
      "execution_count": null,
      "outputs": [
        {
          "output_type": "display_data",
          "data": {
            "image/png": "[encoded data removed]",
            "text/plain": [
              "<Figure size 720x576 with 1 Axes>"
            ]
          },
          "metadata": {
            "tags": []
          }
        }
      ]
    },
    {
      "cell_type": "code",
      "metadata": {
        "id": "VeoXIzW7hC9v",
        "colab_type": "code",
        "colab": {}
      },
      "source": [
        "# This time the validation loss is also decreasing and there is no jump in the validation loss.\n",
        "# Validation Accuracy is also increasing all the time during all the epochs and never go down."
      ],
      "execution_count": null,
      "outputs": []
    },
    {
      "cell_type": "code",
      "metadata": {
        "id": "JakAAs7PhcHw",
        "colab_type": "code",
        "colab": {
          "base_uri": "https://localhost:8080/",
          "height": 51
        },
        "outputId": "d90bb33c-3051-4bb8-8ef1-fcc97b0a0cf8"
      },
      "source": [
        "model1.evaluate(X_test,Y_test)[1]"
      ],
      "execution_count": null,
      "outputs": [
        {
          "output_type": "stream",
          "text": [
            "25000/25000 [==============================] - 1s 50us/step\n"
          ],
          "name": "stdout"
        },
        {
          "output_type": "execute_result",
          "data": {
            "text/plain": [
              "0.8803600072860718"
            ]
          },
          "metadata": {
            "tags": []
          },
          "execution_count": 77
        }
      ]
    },
    {
      "cell_type": "code",
      "metadata": {
        "id": "K-S7KrbWhqOH",
        "colab_type": "code",
        "colab": {
          "base_uri": "https://localhost:8080/",
          "height": 51
        },
        "outputId": "603e48d4-0e2b-4b7a-c6d8-7f1fb09e18f6"
      },
      "source": [
        "model1.evaluate(X_train,Y_train)[1]"
      ],
      "execution_count": null,
      "outputs": [
        {
          "output_type": "stream",
          "text": [
            "25000/25000 [==============================] - 1s 47us/step\n"
          ],
          "name": "stdout"
        },
        {
          "output_type": "execute_result",
          "data": {
            "text/plain": [
              "0.9477199912071228"
            ]
          },
          "metadata": {
            "tags": []
          },
          "execution_count": 79
        }
      ]
    },
    {
      "cell_type": "code",
      "metadata": {
        "id": "cAGfMud8h1w6",
        "colab_type": "code",
        "colab": {
          "base_uri": "https://localhost:8080/",
          "height": 51
        },
        "outputId": "473f3598-6025-4b2a-8d6b-a422849fda85"
      },
      "source": [
        "model1.evaluate(X_train_new,Y_train_new)[1]"
      ],
      "execution_count": null,
      "outputs": [
        {
          "output_type": "stream",
          "text": [
            "20000/20000 [==============================] - 1s 49us/step\n"
          ],
          "name": "stdout"
        },
        {
          "output_type": "execute_result",
          "data": {
            "text/plain": [
              "0.9616000056266785"
            ]
          },
          "metadata": {
            "tags": []
          },
          "execution_count": 80
        }
      ]
    },
    {
      "cell_type": "code",
      "metadata": {
        "id": "UZppAlYRh7jT",
        "colab_type": "code",
        "colab": {
          "base_uri": "https://localhost:8080/",
          "height": 136
        },
        "outputId": "bdc31120-860a-487a-ea2a-f6cb64c27e5f"
      },
      "source": [
        "model1.predict(X_test) # you got list of probabilities and you can convert them in the range 0-1 to get the prediction."
      ],
      "execution_count": null,
      "outputs": [
        {
          "output_type": "execute_result",
          "data": {
            "text/plain": [
              "array([[0.26487494],\n",
              "       [0.9999469 ],\n",
              "       [0.94834924],\n",
              "       ...,\n",
              "       [0.16890272],\n",
              "       [0.15898031],\n",
              "       [0.67307174]], dtype=float32)"
            ]
          },
          "metadata": {
            "tags": []
          },
          "execution_count": 81
        }
      ]
    },
    {
      "cell_type": "code",
      "metadata": {
        "id": "QeycwwMaiPoD",
        "colab_type": "code",
        "colab": {}
      },
      "source": [
        "# This array is an array of confidence i.e, how confident the model is in predicting the class 1\n",
        "# 0.99 means this review belongs to class 1\n",
        "# 0.2648 means 26.48% confident you are in saying that it belongs to class 1, so it belongs to class 0\n",
        "# Convert y_>=0.5 =>1 and y_<0.5 =>0"
      ],
      "execution_count": null,
      "outputs": []
    }
  ]
}